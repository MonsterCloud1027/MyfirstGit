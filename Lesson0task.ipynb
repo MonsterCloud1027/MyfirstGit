{
 "cells": [
  {
   "cell_type": "code",
   "execution_count": 7,
   "metadata": {},
   "outputs": [
    {
     "name": "stdout",
     "output_type": "stream",
     "text": [
      "our favorite song is: sumeet the lenth is :6\n",
      "the substring is: mee\n"
     ]
    }
   ],
   "source": [
    "song = input('type your favorite song: ')\n",
    "print(f\"our favorite song is: {song} the lenth is :{len(song)}\")\n",
    "start_index = int(input('enter the start index: '))\n",
    "end_index = int(input('enter the end index: ')) + 1\n",
    "if start_index < 0 or end_index > len(song) or start_index >= end_index:\n",
    "    print('invalid index')\n",
    "else:\n",
    "    print(f'the substring is: {song[start_index:end_index]}')\n",
    "    \n"
   ]
  },
  {
   "cell_type": "code",
   "execution_count": null,
   "metadata": {},
   "outputs": [],
   "source": []
  }
 ],
 "metadata": {
  "kernelspec": {
   "display_name": "Python 3",
   "language": "python",
   "name": "python3"
  },
  "language_info": {
   "codemirror_mode": {
    "name": "ipython",
    "version": 3
   },
   "file_extension": ".py",
   "mimetype": "text/x-python",
   "name": "python",
   "nbconvert_exporter": "python",
   "pygments_lexer": "ipython3",
   "version": "3.10.1"
  }
 },
 "nbformat": 4,
 "nbformat_minor": 2
}
